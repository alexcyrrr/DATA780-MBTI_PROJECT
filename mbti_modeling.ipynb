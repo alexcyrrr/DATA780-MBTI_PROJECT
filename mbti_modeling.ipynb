{
 "cells": [
  {
   "cell_type": "code",
   "execution_count": null,
   "id": "15504838-8c60-4ffc-ac67-bc9d575d9a52",
   "metadata": {},
   "outputs": [],
   "source": [
    "import pandas as pd\n",
    "import numpy as np\n",
    "\n",
    "import nltk\n",
    "from nltk.corpus import stopwords\n",
    "from nltk.tokenize import word_tokenize\n",
    "from nltk.stem import WordNetLemmatizer\n",
    "import re\n",
    "\n",
    "from sklearn.feature_extraction.text import TfidfVectorizer\n",
    "from sklearn.linear_model import LogisticRegression\n",
    "from sklearn.model_selection import train_test_split\n",
    "from sklearn.metrics import accuracy_score"
   ]
  },
  {
   "cell_type": "code",
   "execution_count": null,
   "id": "ef60c225-5ce9-4031-bd1e-8d4b993161d8",
   "metadata": {},
   "outputs": [],
   "source": [
    "df_reddit = pd.read_csv(\"reddit_data.csv\", engine='python', on_bad_lines='skip')\n",
    "df_kaggle = pd.read_csv(\"kaggle_data.csv\", engine='python', on_bad_lines='skip')"
   ]
  },
  {
   "cell_type": "code",
   "execution_count": null,
   "id": "08f5ee48-33e8-4e5c-bc52-8e83bf8d98d8",
   "metadata": {},
   "outputs": [],
   "source": [
    "## encode mbti classes as numerical values???"
   ]
  },
  {
   "cell_type": "markdown",
   "id": "36a96826-8aa0-4ae0-8a96-8e6a42da3a0d",
   "metadata": {},
   "source": [
    "### Reddit"
   ]
  },
  {
   "cell_type": "code",
   "execution_count": null,
   "id": "66c04c0d-dc79-4040-94f0-6072db9602e3",
   "metadata": {},
   "outputs": [],
   "source": [
    "## Setting up train/test/split and tf-idf matrix for modeling"
   ]
  },
  {
   "cell_type": "code",
   "execution_count": null,
   "id": "c4f1be0a-ff40-4299-8d4e-d1fd447adbf7",
   "metadata": {},
   "outputs": [],
   "source": [
    "df_reddit['body'] = df_reddit['body'].apply(lambda x: ' '.join(x))"
   ]
  },
  {
   "cell_type": "code",
   "execution_count": null,
   "id": "aa76dc27-d73d-473a-b67f-9157d3ecd763",
   "metadata": {},
   "outputs": [],
   "source": [
    "X_train_reddit, X_test_reddit, y_train_reddit, y_test_reddit = train_test_split(df_reddit['body'], df_reddit['class'], test_size=0.2, random_state=42)"
   ]
  },
  {
   "cell_type": "code",
   "execution_count": null,
   "id": "620ed8d4-b130-46f5-93b3-e284d9906391",
   "metadata": {},
   "outputs": [],
   "source": [
    "vectorizer = TfidfVectorizer(ngram_range=(1,1))"
   ]
  },
  {
   "cell_type": "code",
   "execution_count": null,
   "id": "582d8718-ce48-40ff-abff-01a0ceab5048",
   "metadata": {},
   "outputs": [],
   "source": [
    "X_train_reddit_tfidf = tfidf_vectorizer.fit_transform(X_train_reddit)\n",
    "X_test_reddit_tfidf = tfidf_vectorizer.transform(X_test_reddit)"
   ]
  },
  {
   "cell_type": "markdown",
   "id": "dbded466-2749-4506-8142-87503d36b2e1",
   "metadata": {},
   "source": [
    "### Kaggle"
   ]
  },
  {
   "cell_type": "code",
   "execution_count": null,
   "id": "0ddb6c9b-6801-471f-8dcc-36cfc816ec66",
   "metadata": {},
   "outputs": [],
   "source": [
    "## Setting up train/test/split and tf-idf matrix for modeling"
   ]
  },
  {
   "cell_type": "code",
   "execution_count": null,
   "id": "acfc0de9-9aee-470c-98c6-97d9ca555550",
   "metadata": {},
   "outputs": [],
   "source": [
    "df_kaggle['posts'] = df_kaggle['posts'].apply(lambda x: ' '.join(x))"
   ]
  },
  {
   "cell_type": "code",
   "execution_count": null,
   "id": "0bc9a905-8565-4802-b157-fc95a8e9947b",
   "metadata": {},
   "outputs": [],
   "source": [
    "X_train_kaggle, X_test_kaggle, y_train_kaggle, y_test_kaggle = train_test_split(df_kaggle['posts'], df_kaggle['type'], test_size=0.2, random_state=42)"
   ]
  },
  {
   "cell_type": "code",
   "execution_count": null,
   "id": "aabcc749-ddde-4170-b748-6eeeb8ba0d2b",
   "metadata": {},
   "outputs": [],
   "source": [
    "vectorizer = TfidfVectorizer(ngram_range=(1,1))"
   ]
  },
  {
   "cell_type": "code",
   "execution_count": null,
   "id": "89c29756-656b-465f-911c-2867a7c492c4",
   "metadata": {},
   "outputs": [],
   "source": [
    "X_train_kaggle_tfidf = tfidf_vectorizer.fit_transform(X_train_kaggle)\n",
    "X_test_kaggle_tfidf = tfidf_vectorizer.transform(X_test_kaggle)"
   ]
  }
 ],
 "metadata": {
  "kernelspec": {
   "display_name": "data730:Python",
   "language": "python",
   "name": "conda-env-data730-py"
  },
  "language_info": {
   "codemirror_mode": {
    "name": "ipython",
    "version": 3
   },
   "file_extension": ".py",
   "mimetype": "text/x-python",
   "name": "python",
   "nbconvert_exporter": "python",
   "pygments_lexer": "ipython3",
   "version": "3.9.21"
  }
 },
 "nbformat": 4,
 "nbformat_minor": 5
}
