{
 "cells": [
  {
   "cell_type": "code",
   "execution_count": 55,
   "metadata": {},
   "outputs": [],
   "source": [
    "import os\n",
    "\n",
    "import pandas as pd\n",
    "from sklearn.feature_extraction.text import CountVectorizer\n",
    "import ast\n",
    "\n",
    "import warnings\n",
    "warnings.filterwarnings('ignore')\n",
    "\n"
   ]
  },
  {
   "cell_type": "code",
   "execution_count": 4,
   "metadata": {},
   "outputs": [
    {
     "name": "stdout",
     "output_type": "stream",
     "text": [
      "   type                                              posts  ISTJ  ISFJ  INFJ  \\\n",
      "0  INFJ  ['moment', 'sportscenter', 'top', 'ten', 'play...     0     0     1   \n",
      "1  INFJ             ['lifechanging', 'experience', 'life']     0     0     1   \n",
      "2  INFJ                                ['repeat', 'today']     0     0     1   \n",
      "3  INFJ           ['may', 'perc', 'experience', 'immerse']     0     0     1   \n",
      "4  INFJ  ['last', 'thing', 'friend', 'posted', 'faceboo...     0     0     1   \n",
      "\n",
      "   INTJ  ISTP  ISFP  INFP  INTP  ...  ESTP  ESFP  Introvert  Extrovert  \\\n",
      "0     0     0     0     0     0  ...     0     0          1          0   \n",
      "1     0     0     0     0     0  ...     0     0          1          0   \n",
      "2     0     0     0     0     0  ...     0     0          1          0   \n",
      "3     0     0     0     0     0  ...     0     0          1          0   \n",
      "4     0     0     0     0     0  ...     0     0          1          0   \n",
      "\n",
      "   Sensing  Intuition  Thinking  Feeling  Judging  Perceiving  \n",
      "0        0          1         0        1        1           0  \n",
      "1        0          1         0        1        1           0  \n",
      "2        0          1         0        1        1           0  \n",
      "3        0          1         0        1        1           0  \n",
      "4        0          1         0        1        1           0  \n",
      "\n",
      "[5 rows x 26 columns]\n"
     ]
    }
   ],
   "source": [
    "# Read in Reddit data\n",
    "kaggle = pd.read_csv(os.path.join(\"data\", \"kaggle_data.csv\"))\n",
    "# kaggle = pd.read_csv('kaggle_data.csv')\n",
    "print(kaggle.head())"
   ]
  },
  {
   "cell_type": "code",
   "execution_count": 5,
   "metadata": {},
   "outputs": [],
   "source": [
    "processed_posts = kaggle['posts'].apply(lambda x: ' '.join(ast.literal_eval(x)))\n",
    "vectorizer = CountVectorizer()\n"
   ]
  },
  {
   "cell_type": "code",
   "execution_count": 6,
   "metadata": {},
   "outputs": [],
   "source": [
    "# Vectorize the posts as X\n",
    "X = vectorizer.fit_transform(processed_posts)"
   ]
  },
  {
   "cell_type": "code",
   "execution_count": 7,
   "metadata": {},
   "outputs": [],
   "source": [
    "# Set y as Introvert to see how well the posts predict whether someone is an Introver (I) or Extrovert (E)\n",
    "y = kaggle.Introvert"
   ]
  },
  {
   "cell_type": "code",
   "execution_count": 8,
   "metadata": {},
   "outputs": [],
   "source": [
    "from sklearn.model_selection import train_test_split"
   ]
  },
  {
   "cell_type": "code",
   "execution_count": 9,
   "metadata": {},
   "outputs": [],
   "source": [
    "# Split the data into 70% training data and 30% test data. \n",
    "# Used the random_state parameter for reproducibility of the initial shuffling of train/test set\n",
    "X_train, X_test, y_train, y_test = train_test_split(X, y, test_size=0.3, random_state = 916)"
   ]
  },
  {
   "cell_type": "code",
   "execution_count": 10,
   "metadata": {},
   "outputs": [],
   "source": [
    "# Import the function `accuracy_score` from the `metrics` module.\n",
    "from sklearn.metrics import accuracy_score"
   ]
  },
  {
   "cell_type": "code",
   "execution_count": 11,
   "metadata": {},
   "outputs": [
    {
     "name": "stdout",
     "output_type": "stream",
     "text": [
      "Accuracy: 0.73\n"
     ]
    }
   ],
   "source": [
    "# get LogisticRegression from sklearn.linear_model\n",
    "from sklearn.linear_model import LogisticRegression\n",
    "\n",
    "# Set LogisticRegression’s regularization strength parameter (C) to a high value\n",
    "lr = LogisticRegression(C = 1000, penalty='l1', solver='liblinear')\n",
    "\n",
    "# Fit function to scaled training data and training target to create a model.\n",
    "lr.fit(X_train, y_train)\n",
    "\n",
    "# Apply the trained logistic regression on the X data to make predicts for the y test data.\n",
    "y_predLr = lr.predict(X_test)\n",
    "\n",
    "# View the accuracy of the model, which is: 1 - (observations predicted wrong / total observations).\n",
    "print('Accuracy: %.2f' % accuracy_score(y_test, y_predLr))"
   ]
  },
  {
   "cell_type": "code",
   "execution_count": 12,
   "metadata": {},
   "outputs": [],
   "source": [
    "# Predict whether someone ins Sensing (S) or Intuition (N)\n",
    "y = kaggle.Sensing"
   ]
  },
  {
   "cell_type": "code",
   "execution_count": 13,
   "metadata": {},
   "outputs": [],
   "source": [
    "# Split the data into 70% training data and 30% test data. \n",
    "# Used the random_state parameter for reproducibility of the initial shuffling of train/test set\n",
    "X_train, X_test, y_train, y_test = train_test_split(X, y, test_size=0.3, random_state = 916)"
   ]
  },
  {
   "cell_type": "code",
   "execution_count": 14,
   "metadata": {},
   "outputs": [
    {
     "name": "stdout",
     "output_type": "stream",
     "text": [
      "Accuracy: 0.83\n"
     ]
    }
   ],
   "source": [
    "# get LogisticRegression from sklearn.linear_model\n",
    "from sklearn.linear_model import LogisticRegression\n",
    "\n",
    "# Set LogisticRegression’s regularization strength parameter (C) to a high value\n",
    "lr = LogisticRegression(C = 1000, penalty='l1', solver='liblinear')\n",
    "\n",
    "# Fit function to scaled training data and training target to create a model.\n",
    "lr.fit(X_train, y_train)\n",
    "\n",
    "# Apply the trained logistic regression on the X data to make predicts for the y test data.\n",
    "y_predLr = lr.predict(X_test)\n",
    "\n",
    "# View the accuracy of the model, which is: 1 - (observations predicted wrong / total observations).\n",
    "print('Accuracy: %.2f' % accuracy_score(y_test, y_predLr))"
   ]
  },
  {
   "cell_type": "code",
   "execution_count": 15,
   "metadata": {},
   "outputs": [],
   "source": [
    "# Predict whether someone is  (T) or Feeling (F)\n",
    "y = kaggle.Thinking"
   ]
  },
  {
   "cell_type": "code",
   "execution_count": 16,
   "metadata": {},
   "outputs": [],
   "source": [
    "# Split the data into 70% training data and 30% test data. \n",
    "# Used the random_state parameter for reproducibility of the initial shuffling of train/test set\n",
    "X_train, X_test, y_train, y_test = train_test_split(X, y, test_size=0.3, random_state = 916)"
   ]
  },
  {
   "cell_type": "code",
   "execution_count": 17,
   "metadata": {},
   "outputs": [
    {
     "name": "stdout",
     "output_type": "stream",
     "text": [
      "Accuracy: 0.58\n"
     ]
    }
   ],
   "source": [
    "# get LogisticRegression from sklearn.linear_model\n",
    "from sklearn.linear_model import LogisticRegression\n",
    "\n",
    "# Set LogisticRegression’s regularization strength parameter (C) to a high value\n",
    "lr = LogisticRegression(C = 1000, penalty='l1', solver='liblinear')\n",
    "\n",
    "# Fit function to scaled training data and training target to create a model.\n",
    "lr.fit(X_train, y_train)\n",
    "\n",
    "# Apply the trained logistic regression on the X data to make predicts for the y test data.\n",
    "y_predLr = lr.predict(X_test)\n",
    "\n",
    "# View the accuracy of the model, which is: 1 - (observations predicted wrong / total observations).\n",
    "print('Accuracy: %.2f' % accuracy_score(y_test, y_predLr))"
   ]
  },
  {
   "cell_type": "code",
   "execution_count": 18,
   "metadata": {},
   "outputs": [],
   "source": [
    "# Predict whether someone is Judging (J) vs. Perceiving (P)\n",
    "y = kaggle.Judging"
   ]
  },
  {
   "cell_type": "code",
   "execution_count": 19,
   "metadata": {},
   "outputs": [],
   "source": [
    "# Split the data into 70% training data and 30% test data. \n",
    "# Used the random_state parameter for reproducibility of the initial shuffling of train/test set\n",
    "X_train, X_test, y_train, y_test = train_test_split(X, y, test_size=0.3, random_state = 916)"
   ]
  },
  {
   "cell_type": "code",
   "execution_count": 20,
   "metadata": {},
   "outputs": [
    {
     "name": "stdout",
     "output_type": "stream",
     "text": [
      "Accuracy: 0.58\n"
     ]
    }
   ],
   "source": [
    "# get LogisticRegression from sklearn.linear_model\n",
    "from sklearn.linear_model import LogisticRegression\n",
    "\n",
    "# Set LogisticRegression’s regularization strength parameter (C) to a high value\n",
    "lr = LogisticRegression(C = 1000, penalty='l1', solver='liblinear')\n",
    "\n",
    "# Fit function to scaled training data and training target to create a model.\n",
    "lr.fit(X_train, y_train)\n",
    "\n",
    "# Apply the trained logistic regression on the X data to make predicts for the y test data.\n",
    "y_predLr = lr.predict(X_test)\n",
    "\n",
    "# View the accuracy of the model, which is: 1 - (observations predicted wrong / total observations).\n",
    "print('Accuracy: %.2f' % accuracy_score(y_test, y_predLr))"
   ]
  },
  {
   "cell_type": "code",
   "execution_count": 21,
   "metadata": {},
   "outputs": [],
   "source": [
    "# Test ISTJ\n",
    "y = kaggle.ISTJ"
   ]
  },
  {
   "cell_type": "code",
   "execution_count": 22,
   "metadata": {},
   "outputs": [],
   "source": [
    "# Split the data into 70% training data and 30% test data. \n",
    "# Used the random_state parameter for reproducibility of the initial shuffling of train/test set\n",
    "X_train, X_test, y_train, y_test = train_test_split(X, y, test_size=0.3, random_state = 916)"
   ]
  },
  {
   "cell_type": "code",
   "execution_count": 23,
   "metadata": {},
   "outputs": [
    {
     "name": "stdout",
     "output_type": "stream",
     "text": [
      "Accuracy: 0.96\n"
     ]
    }
   ],
   "source": [
    "# get LogisticRegression from sklearn.linear_model\n",
    "from sklearn.linear_model import LogisticRegression\n",
    "\n",
    "# Set LogisticRegression’s regularization strength parameter (C) to a high value\n",
    "lr = LogisticRegression(C = 1000, penalty='l1', solver='liblinear')\n",
    "\n",
    "# Fit function to scaled training data and training target to create a model.\n",
    "lr.fit(X_train, y_train)\n",
    "\n",
    "# Apply the trained logistic regression on the X data to make predicts for the y test data.\n",
    "y_predLr = lr.predict(X_test)\n",
    "\n",
    "# View the accuracy of the model, which is: 1 - (observations predicted wrong / total observations).\n",
    "print('Accuracy: %.2f' % accuracy_score(y_test, y_predLr))"
   ]
  },
  {
   "cell_type": "code",
   "execution_count": 24,
   "metadata": {},
   "outputs": [],
   "source": [
    "# Test ISFJ\n",
    "y = kaggle.ISFJ"
   ]
  },
  {
   "cell_type": "code",
   "execution_count": 25,
   "metadata": {},
   "outputs": [],
   "source": [
    "# Split the data into 70% training data and 30% test data. \n",
    "# Used the random_state parameter for reproducibility of the initial shuffling of train/test set\n",
    "X_train, X_test, y_train, y_test = train_test_split(X, y, test_size=0.3, random_state = 916)"
   ]
  },
  {
   "cell_type": "code",
   "execution_count": 26,
   "metadata": {},
   "outputs": [
    {
     "name": "stdout",
     "output_type": "stream",
     "text": [
      "Accuracy: 0.97\n"
     ]
    }
   ],
   "source": [
    "# get LogisticRegression from sklearn.linear_model\n",
    "from sklearn.linear_model import LogisticRegression\n",
    "\n",
    "# Set LogisticRegression’s regularization strength parameter (C) to a high value\n",
    "lr = LogisticRegression(C = 1000, penalty='l1', solver='liblinear')\n",
    "\n",
    "# Fit function to scaled training data and training target to create a model.\n",
    "lr.fit(X_train, y_train)\n",
    "\n",
    "# Apply the trained logistic regression on the X data to make predicts for the y test data.\n",
    "y_predLr = lr.predict(X_test)\n",
    "\n",
    "# View the accuracy of the model, which is: 1 - (observations predicted wrong / total observations).\n",
    "print('Accuracy: %.2f' % accuracy_score(y_test, y_predLr))"
   ]
  },
  {
   "cell_type": "code",
   "execution_count": 27,
   "metadata": {},
   "outputs": [],
   "source": [
    "# Test INFJ\n",
    "y = kaggle.INFJ"
   ]
  },
  {
   "cell_type": "code",
   "execution_count": 28,
   "metadata": {},
   "outputs": [
    {
     "name": "stdout",
     "output_type": "stream",
     "text": [
      "Accuracy: 0.79\n"
     ]
    }
   ],
   "source": [
    "# Split the data into 70% training data and 30% test data. \n",
    "# Used the random_state parameter for reproducibility of the initial shuffling of train/test set\n",
    "X_train, X_test, y_train, y_test = train_test_split(X, y, test_size=0.3, random_state = 916)\n",
    "\n",
    "# get LogisticRegression from sklearn.linear_model\n",
    "from sklearn.linear_model import LogisticRegression\n",
    "\n",
    "# Set LogisticRegression’s regularization strength parameter (C) to a high value\n",
    "lr = LogisticRegression(C = 1000, penalty='l1', solver='liblinear')\n",
    "\n",
    "# Fit function to scaled training data and training target to create a model.\n",
    "lr.fit(X_train, y_train)\n",
    "\n",
    "# Apply the trained logistic regression on the X data to make predicts for the y test data.\n",
    "y_predLr = lr.predict(X_test)\n",
    "\n",
    "# View the accuracy of the model, which is: 1 - (observations predicted wrong / total observations).\n",
    "print('Accuracy: %.2f' % accuracy_score(y_test, y_predLr))"
   ]
  },
  {
   "cell_type": "code",
   "execution_count": 29,
   "metadata": {},
   "outputs": [],
   "source": [
    "# Test INTJ\n",
    "y = kaggle.INTJ"
   ]
  },
  {
   "cell_type": "code",
   "execution_count": 30,
   "metadata": {},
   "outputs": [
    {
     "name": "stdout",
     "output_type": "stream",
     "text": [
      "Accuracy: 0.84\n"
     ]
    }
   ],
   "source": [
    "# Split the data into 70% training data and 30% test data. \n",
    "# Used the random_state parameter for reproducibility of the initial shuffling of train/test set\n",
    "X_train, X_test, y_train, y_test = train_test_split(X, y, test_size=0.3, random_state = 916)\n",
    "\n",
    "# get LogisticRegression from sklearn.linear_model\n",
    "from sklearn.linear_model import LogisticRegression\n",
    "\n",
    "# Set LogisticRegression’s regularization strength parameter (C) to a high value\n",
    "lr = LogisticRegression(C = 1000, penalty='l1', solver='liblinear')\n",
    "\n",
    "# Fit function to scaled training data and training target to create a model.\n",
    "lr.fit(X_train, y_train)\n",
    "\n",
    "# Apply the trained logistic regression on the X data to make predicts for the y test data.\n",
    "y_predLr = lr.predict(X_test)\n",
    "\n",
    "# View the accuracy of the model, which is: 1 - (observations predicted wrong / total observations).\n",
    "print('Accuracy: %.2f' % accuracy_score(y_test, y_predLr))"
   ]
  },
  {
   "cell_type": "code",
   "execution_count": 31,
   "metadata": {},
   "outputs": [],
   "source": [
    "# Test ISTP\n",
    "y = kaggle.ISTP"
   ]
  },
  {
   "cell_type": "code",
   "execution_count": 32,
   "metadata": {},
   "outputs": [
    {
     "name": "stdout",
     "output_type": "stream",
     "text": [
      "Accuracy: 0.94\n"
     ]
    }
   ],
   "source": [
    "# Split the data into 70% training data and 30% test data. \n",
    "# Used the random_state parameter for reproducibility of the initial shuffling of train/test set\n",
    "X_train, X_test, y_train, y_test = train_test_split(X, y, test_size=0.3, random_state = 916)\n",
    "\n",
    "# get LogisticRegression from sklearn.linear_model\n",
    "from sklearn.linear_model import LogisticRegression\n",
    "\n",
    "# Set LogisticRegression’s regularization strength parameter (C) to a high value\n",
    "lr = LogisticRegression(C = 1000, penalty='l1', solver='liblinear')\n",
    "\n",
    "# Fit function to scaled training data and training target to create a model.\n",
    "lr.fit(X_train, y_train)\n",
    "\n",
    "# Apply the trained logistic regression on the X data to make predicts for the y test data.\n",
    "y_predLr = lr.predict(X_test)\n",
    "\n",
    "# View the accuracy of the model, which is: 1 - (observations predicted wrong / total observations).\n",
    "print('Accuracy: %.2f' % accuracy_score(y_test, y_predLr))"
   ]
  },
  {
   "cell_type": "code",
   "execution_count": 33,
   "metadata": {},
   "outputs": [],
   "source": [
    "# Test ISFP\n",
    "y = kaggle.ISFP"
   ]
  },
  {
   "cell_type": "code",
   "execution_count": 34,
   "metadata": {},
   "outputs": [
    {
     "name": "stdout",
     "output_type": "stream",
     "text": [
      "Accuracy: 0.95\n"
     ]
    }
   ],
   "source": [
    "# Split the data into 70% training data and 30% test data. \n",
    "# Used the random_state parameter for reproducibility of the initial shuffling of train/test set\n",
    "X_train, X_test, y_train, y_test = train_test_split(X, y, test_size=0.3, random_state = 916)\n",
    "\n",
    "# get LogisticRegression from sklearn.linear_model\n",
    "from sklearn.linear_model import LogisticRegression\n",
    "\n",
    "# Set LogisticRegression’s regularization strength parameter (C) to a high value\n",
    "lr = LogisticRegression(C = 1000, penalty='l1', solver='liblinear')\n",
    "\n",
    "# Fit function to scaled training data and training target to create a model.\n",
    "lr.fit(X_train, y_train)\n",
    "\n",
    "# Apply the trained logistic regression on the X data to make predicts for the y test data.\n",
    "y_predLr = lr.predict(X_test)\n",
    "\n",
    "# View the accuracy of the model, which is: 1 - (observations predicted wrong / total observations).\n",
    "print('Accuracy: %.2f' % accuracy_score(y_test, y_predLr))"
   ]
  },
  {
   "cell_type": "code",
   "execution_count": 35,
   "metadata": {},
   "outputs": [],
   "source": [
    "# Test INFP\n",
    "y = kaggle.INFP"
   ]
  },
  {
   "cell_type": "code",
   "execution_count": 36,
   "metadata": {},
   "outputs": [
    {
     "name": "stdout",
     "output_type": "stream",
     "text": [
      "Accuracy: 0.75\n"
     ]
    }
   ],
   "source": [
    "# Split the data into 70% training data and 30% test data. \n",
    "# Used the random_state parameter for reproducibility of the initial shuffling of train/test set\n",
    "X_train, X_test, y_train, y_test = train_test_split(X, y, test_size=0.3, random_state = 916)\n",
    "\n",
    "# get LogisticRegression from sklearn.linear_model\n",
    "from sklearn.linear_model import LogisticRegression\n",
    "\n",
    "# Set LogisticRegression’s regularization strength parameter (C) to a high value\n",
    "lr = LogisticRegression(C = 1000, penalty='l1', solver='liblinear')\n",
    "\n",
    "# Fit function to scaled training data and training target to create a model.\n",
    "lr.fit(X_train, y_train)\n",
    "\n",
    "# Apply the trained logistic regression on the X data to make predicts for the y test data.\n",
    "y_predLr = lr.predict(X_test)\n",
    "\n",
    "# View the accuracy of the model, which is: 1 - (observations predicted wrong / total observations).\n",
    "print('Accuracy: %.2f' % accuracy_score(y_test, y_predLr))"
   ]
  },
  {
   "cell_type": "code",
   "execution_count": 37,
   "metadata": {},
   "outputs": [],
   "source": [
    "# Test INTP\n",
    "y = kaggle.INTP"
   ]
  },
  {
   "cell_type": "code",
   "execution_count": 38,
   "metadata": {},
   "outputs": [
    {
     "name": "stdout",
     "output_type": "stream",
     "text": [
      "Accuracy: 0.82\n"
     ]
    }
   ],
   "source": [
    "# Split the data into 70% training data and 30% test data. \n",
    "# Used the random_state parameter for reproducibility of the initial shuffling of train/test set\n",
    "X_train, X_test, y_train, y_test = train_test_split(X, y, test_size=0.3, random_state = 916)\n",
    "\n",
    "# get LogisticRegression from sklearn.linear_model\n",
    "from sklearn.linear_model import LogisticRegression\n",
    "\n",
    "# Set LogisticRegression’s regularization strength parameter (C) to a high value\n",
    "lr = LogisticRegression(C = 1000, penalty='l1', solver='liblinear')\n",
    "\n",
    "# Fit function to scaled training data and training target to create a model.\n",
    "lr.fit(X_train, y_train)\n",
    "\n",
    "# Apply the trained logistic regression on the X data to make predicts for the y test data.\n",
    "y_predLr = lr.predict(X_test)\n",
    "\n",
    "# View the accuracy of the model, which is: 1 - (observations predicted wrong / total observations).\n",
    "print('Accuracy: %.2f' % accuracy_score(y_test, y_predLr))"
   ]
  },
  {
   "cell_type": "code",
   "execution_count": 39,
   "metadata": {},
   "outputs": [],
   "source": [
    "# Test ENTJ\n",
    "y= kaggle.ENTJ"
   ]
  },
  {
   "cell_type": "code",
   "execution_count": 40,
   "metadata": {},
   "outputs": [
    {
     "name": "stdout",
     "output_type": "stream",
     "text": [
      "Accuracy: 0.96\n"
     ]
    }
   ],
   "source": [
    "# Split the data into 70% training data and 30% test data. \n",
    "# Used the random_state parameter for reproducibility of the initial shuffling of train/test set\n",
    "X_train, X_test, y_train, y_test = train_test_split(X, y, test_size=0.3, random_state = 916)\n",
    "\n",
    "# get LogisticRegression from sklearn.linear_model\n",
    "from sklearn.linear_model import LogisticRegression\n",
    "\n",
    "# Set LogisticRegression’s regularization strength parameter (C) to a high value\n",
    "lr = LogisticRegression(C = 1000, penalty='l1', solver='liblinear')\n",
    "\n",
    "# Fit function to scaled training data and training target to create a model.\n",
    "lr.fit(X_train, y_train)\n",
    "\n",
    "# Apply the trained logistic regression on the X data to make predicts for the y test data.\n",
    "y_predLr = lr.predict(X_test)\n",
    "\n",
    "# View the accuracy of the model, which is: 1 - (observations predicted wrong / total observations).\n",
    "print('Accuracy: %.2f' % accuracy_score(y_test, y_predLr))"
   ]
  },
  {
   "cell_type": "code",
   "execution_count": 41,
   "metadata": {},
   "outputs": [],
   "source": [
    "# Test ENTP\n",
    "y = kaggle.ENTP"
   ]
  },
  {
   "cell_type": "code",
   "execution_count": 42,
   "metadata": {},
   "outputs": [
    {
     "name": "stdout",
     "output_type": "stream",
     "text": [
      "Accuracy: 0.89\n"
     ]
    }
   ],
   "source": [
    "# Split the data into 70% training data and 30% test data. \n",
    "# Used the random_state parameter for reproducibility of the initial shuffling of train/test set\n",
    "X_train, X_test, y_train, y_test = train_test_split(X, y, test_size=0.3, random_state = 916)\n",
    "\n",
    "# get LogisticRegression from sklearn.linear_model\n",
    "from sklearn.linear_model import LogisticRegression\n",
    "\n",
    "# Set LogisticRegression’s regularization strength parameter (C) to a high value\n",
    "lr = LogisticRegression(C = 1000, penalty='l1', solver='liblinear')\n",
    "\n",
    "# Fit function to scaled training data and training target to create a model.\n",
    "lr.fit(X_train, y_train)\n",
    "\n",
    "# Apply the trained logistic regression on the X data to make predicts for the y test data.\n",
    "y_predLr = lr.predict(X_test)\n",
    "\n",
    "# View the accuracy of the model, which is: 1 - (observations predicted wrong / total observations).\n",
    "print('Accuracy: %.2f' % accuracy_score(y_test, y_predLr))"
   ]
  },
  {
   "cell_type": "code",
   "execution_count": 43,
   "metadata": {},
   "outputs": [],
   "source": [
    "# Test ENFJ\n",
    "y = kaggle.ENFJ"
   ]
  },
  {
   "cell_type": "code",
   "execution_count": 44,
   "metadata": {},
   "outputs": [
    {
     "name": "stdout",
     "output_type": "stream",
     "text": [
      "Accuracy: 0.97\n"
     ]
    }
   ],
   "source": [
    "# Split the data into 70% training data and 30% test data. \n",
    "# Used the random_state parameter for reproducibility of the initial shuffling of train/test set\n",
    "X_train, X_test, y_train, y_test = train_test_split(X, y, test_size=0.3, random_state = 916)\n",
    "\n",
    "# get LogisticRegression from sklearn.linear_model\n",
    "from sklearn.linear_model import LogisticRegression\n",
    "\n",
    "# Set LogisticRegression’s regularization strength parameter (C) to a high value\n",
    "lr = LogisticRegression(C = 1000, penalty='l1', solver='liblinear')\n",
    "\n",
    "# Fit function to scaled training data and training target to create a model.\n",
    "lr.fit(X_train, y_train)\n",
    "\n",
    "# Apply the trained logistic regression on the X data to make predicts for the y test data.\n",
    "y_predLr = lr.predict(X_test)\n",
    "\n",
    "# View the accuracy of the model, which is: 1 - (observations predicted wrong / total observations).\n",
    "print('Accuracy: %.2f' % accuracy_score(y_test, y_predLr))"
   ]
  },
  {
   "cell_type": "code",
   "execution_count": 45,
   "metadata": {},
   "outputs": [],
   "source": [
    "# Test ENFP\n",
    "y = kaggle.ENFP"
   ]
  },
  {
   "cell_type": "code",
   "execution_count": 46,
   "metadata": {},
   "outputs": [
    {
     "name": "stdout",
     "output_type": "stream",
     "text": [
      "Accuracy: 0.90\n"
     ]
    }
   ],
   "source": [
    "# Split the data into 70% training data and 30% test data. \n",
    "# Used the random_state parameter for reproducibility of the initial shuffling of train/test set\n",
    "X_train, X_test, y_train, y_test = train_test_split(X, y, test_size=0.3, random_state = 916)\n",
    "\n",
    "# get LogisticRegression from sklearn.linear_model\n",
    "from sklearn.linear_model import LogisticRegression\n",
    "\n",
    "# Set LogisticRegression’s regularization strength parameter (C) to a high value\n",
    "lr = LogisticRegression(C = 1000, penalty='l1', solver='liblinear')\n",
    "\n",
    "# Fit function to scaled training data and training target to create a model.\n",
    "lr.fit(X_train, y_train)\n",
    "\n",
    "# Apply the trained logistic regression on the X data to make predicts for the y test data.\n",
    "y_predLr = lr.predict(X_test)\n",
    "\n",
    "# View the accuracy of the model, which is: 1 - (observations predicted wrong / total observations).\n",
    "print('Accuracy: %.2f' % accuracy_score(y_test, y_predLr))"
   ]
  },
  {
   "cell_type": "code",
   "execution_count": 47,
   "metadata": {},
   "outputs": [],
   "source": [
    "# Test ESTJ\n",
    "y = kaggle.ESTJ"
   ]
  },
  {
   "cell_type": "code",
   "execution_count": 48,
   "metadata": {},
   "outputs": [
    {
     "name": "stdout",
     "output_type": "stream",
     "text": [
      "Accuracy: 0.98\n"
     ]
    }
   ],
   "source": [
    "# Split the data into 70% training data and 30% test data. \n",
    "# Used the random_state parameter for reproducibility of the initial shuffling of train/test set\n",
    "X_train, X_test, y_train, y_test = train_test_split(X, y, test_size=0.3, random_state = 916)\n",
    "\n",
    "# get LogisticRegression from sklearn.linear_model\n",
    "from sklearn.linear_model import LogisticRegression\n",
    "\n",
    "# Set LogisticRegression’s regularization strength parameter (C) to a high value\n",
    "lr = LogisticRegression(C = 1000, penalty='l1', solver='liblinear')\n",
    "\n",
    "# Fit function to scaled training data and training target to create a model.\n",
    "lr.fit(X_train, y_train)\n",
    "\n",
    "# Apply the trained logistic regression on the X data to make predicts for the y test data.\n",
    "y_predLr = lr.predict(X_test)\n",
    "\n",
    "# View the accuracy of the model, which is: 1 - (observations predicted wrong / total observations).\n",
    "print('Accuracy: %.2f' % accuracy_score(y_test, y_predLr))"
   ]
  },
  {
   "cell_type": "code",
   "execution_count": 49,
   "metadata": {},
   "outputs": [],
   "source": [
    "# Test ESFJ\n",
    "y = kaggle.ESFJ"
   ]
  },
  {
   "cell_type": "code",
   "execution_count": 50,
   "metadata": {},
   "outputs": [
    {
     "name": "stdout",
     "output_type": "stream",
     "text": [
      "Accuracy: 0.98\n"
     ]
    }
   ],
   "source": [
    "# Split the data into 70% training data and 30% test data. \n",
    "# Used the random_state parameter for reproducibility of the initial shuffling of train/test set\n",
    "X_train, X_test, y_train, y_test = train_test_split(X, y, test_size=0.3, random_state = 916)\n",
    "\n",
    "# get LogisticRegression from sklearn.linear_model\n",
    "from sklearn.linear_model import LogisticRegression\n",
    "\n",
    "# Set LogisticRegression’s regularization strength parameter (C) to a high value\n",
    "lr = LogisticRegression(C = 1000, penalty='l1', solver='liblinear')\n",
    "\n",
    "# Fit function to scaled training data and training target to create a model.\n",
    "lr.fit(X_train, y_train)\n",
    "\n",
    "# Apply the trained logistic regression on the X data to make predicts for the y test data.\n",
    "y_predLr = lr.predict(X_test)\n",
    "\n",
    "# View the accuracy of the model, which is: 1 - (observations predicted wrong / total observations).\n",
    "print('Accuracy: %.2f' % accuracy_score(y_test, y_predLr))"
   ]
  },
  {
   "cell_type": "code",
   "execution_count": 51,
   "metadata": {},
   "outputs": [],
   "source": [
    "# Test ESTP\n",
    "y = kaggle.ESTP"
   ]
  },
  {
   "cell_type": "code",
   "execution_count": 52,
   "metadata": {},
   "outputs": [
    {
     "name": "stdout",
     "output_type": "stream",
     "text": [
      "Accuracy: 0.98\n"
     ]
    }
   ],
   "source": [
    "# Split the data into 70% training data and 30% test data. \n",
    "# Used the random_state parameter for reproducibility of the initial shuffling of train/test set\n",
    "X_train, X_test, y_train, y_test = train_test_split(X, y, test_size=0.3, random_state = 916)\n",
    "\n",
    "# get LogisticRegression from sklearn.linear_model\n",
    "from sklearn.linear_model import LogisticRegression\n",
    "\n",
    "# Set LogisticRegression’s regularization strength parameter (C) to a high value\n",
    "lr = LogisticRegression(C = 1000, penalty='l1', solver='liblinear')\n",
    "\n",
    "# Fit function to scaled training data and training target to create a model.\n",
    "lr.fit(X_train, y_train)\n",
    "\n",
    "# Apply the trained logistic regression on the X data to make predicts for the y test data.\n",
    "y_predLr = lr.predict(X_test)\n",
    "\n",
    "# View the accuracy of the model, which is: 1 - (observations predicted wrong / total observations).\n",
    "print('Accuracy: %.2f' % accuracy_score(y_test, y_predLr))"
   ]
  },
  {
   "cell_type": "code",
   "execution_count": 53,
   "metadata": {},
   "outputs": [],
   "source": [
    "# Test ESFP\n",
    "y = kaggle.ESFP"
   ]
  },
  {
   "cell_type": "code",
   "execution_count": 54,
   "metadata": {},
   "outputs": [
    {
     "name": "stdout",
     "output_type": "stream",
     "text": [
      "Accuracy: 0.99\n"
     ]
    }
   ],
   "source": [
    "# Split the data into 70% training data and 30% test data. \n",
    "# Used the random_state parameter for reproducibility of the initial shuffling of train/test set\n",
    "X_train, X_test, y_train, y_test = train_test_split(X, y, test_size=0.3, random_state = 916)\n",
    "\n",
    "# get LogisticRegression from sklearn.linear_model\n",
    "from sklearn.linear_model import LogisticRegression\n",
    "\n",
    "# Set LogisticRegression’s regularization strength parameter (C) to a high value\n",
    "lr = LogisticRegression(C = 1000, penalty='l1', solver='liblinear')\n",
    "\n",
    "# Fit function to scaled training data and training target to create a model.\n",
    "lr.fit(X_train, y_train)\n",
    "\n",
    "# Apply the trained logistic regression on the X data to make predicts for the y test data.\n",
    "y_predLr = lr.predict(X_test)\n",
    "\n",
    "# View the accuracy of the model, which is: 1 - (observations predicted wrong / total observations).\n",
    "print('Accuracy: %.2f' % accuracy_score(y_test, y_predLr))"
   ]
  },
  {
   "cell_type": "code",
   "execution_count": null,
   "metadata": {},
   "outputs": [],
   "source": []
  }
 ],
 "metadata": {
  "kernelspec": {
   "display_name": "Python 3",
   "language": "python",
   "name": "python3"
  },
  "language_info": {
   "codemirror_mode": {
    "name": "ipython",
    "version": 3
   },
   "file_extension": ".py",
   "mimetype": "text/x-python",
   "name": "python",
   "nbconvert_exporter": "python",
   "pygments_lexer": "ipython3",
   "version": "3.13.1"
  }
 },
 "nbformat": 4,
 "nbformat_minor": 4
}
